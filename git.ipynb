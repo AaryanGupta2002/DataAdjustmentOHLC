{
 "cells": [
  {
   "cell_type": "code",
   "execution_count": null,
   "metadata": {},
   "outputs": [],
   "source": [
    "import pandas as pd\n",
    "import os\n",
    "import shutil"
   ]
  },
  {
   "cell_type": "code",
   "execution_count": null,
   "metadata": {},
   "outputs": [],
   "source": [
    "def extract_split_info(purpose_text):\n",
    "    try:\n",
    "        words = purpose_text.split()\n",
    "        from_value = int(words[7].replace(\"/-\", \"\"))\n",
    "        to_value = int(words[12].replace(\"/-\", \"\"))\n",
    "        ratio = f\"{to_value}:{from_value}\"\n",
    "        divisor = from_value / to_value\n",
    "        return ratio, divisor\n",
    "    except (IndexError, ValueError):\n",
    "        return None, None\n",
    "    \n",
    "split_df = pd.read_csv('SPLIT.csv')\n",
    "split_df[['RATIO', 'DIVISOR']] = split_df['PURPOSE'].apply(lambda x: pd.Series(extract_split_info(x)))\n",
    "split_df.to_csv(\"Splitx.csv\", index=False)"
   ]
  },
  {
   "cell_type": "code",
   "execution_count": null,
   "metadata": {},
   "outputs": [],
   "source": [
    "def extract_bonus_info(purpose_text):\n",
    "    try:\n",
    "        words = purpose_text.split()\n",
    "        ratio_parts = words[1].split(\":\")\n",
    "        shares_before_bonus = int(ratio_parts[1])\n",
    "        bonus_shares = int(ratio_parts[0])\n",
    "        ratio = f\"{bonus_shares}:{shares_before_bonus}\"\n",
    "        divisor = (bonus_shares + shares_before_bonus)/shares_before_bonus\n",
    "        return ratio, divisor\n",
    "    except (IndexError, ValueError):\n",
    "        return None, None\n",
    "\n",
    "bonus_df = pd.read_csv('BONUS.csv')\n",
    "bonus_df[['RATIO', 'DIVISOR']] = bonus_df['PURPOSE'].apply(lambda x: pd.Series(extract_bonus_info(x)))\n",
    "bonus_df.to_csv('BONUSx.csv', index=False)"
   ]
  },
  {
   "cell_type": "code",
   "execution_count": null,
   "metadata": {},
   "outputs": [],
   "source": [
    "def copy_files(csv_file, source_dir, dest_dir):\n",
    "    \n",
    "    symbols = pd.read_csv(csv_file)['SYMBOL'].unique()\n",
    "    os.makedirs(dest_dir, exist_ok=True)\n",
    "    copied_files = 0\n",
    "    for symbol in symbols:\n",
    "        source_file = os.path.join(source_dir, f\"{symbol}.csv\")\n",
    "        dest_file = os.path.join(dest_dir, f\"{symbol}.csv\")\n",
    "        if os.path.exists(source_file):\n",
    "            shutil.copy2(source_file, dest_file)\n",
    "            copied_files += 1\n",
    "            print(f\"Copied: {symbol}.csv\")\n",
    "        else:\n",
    "            print(f\"File not found: {symbol}.csv\")\n",
    "    print(f\"\\nTotal files copied: {copied_files}\")\n",
    "\n",
    "copy_files('BONUSx.csv', \"../history/history\", \"/copiedfiledirectorypath\")"
   ]
  },
  {
   "cell_type": "code",
   "execution_count": null,
   "metadata": {},
   "outputs": [],
   "source": [
    "def adjust_file(symbol, ex_date, divisor, file_path, output_dir):\n",
    "    try:\n",
    "        df = pd.read_csv(file_path, parse_dates=['date'])\n",
    "        ex_date = pd.to_datetime(ex_date, format='%d-%b-%y')\n",
    "\n",
    "        if pd.api.types.is_datetime64tz_dtype(df['date']):\n",
    "            ex_date = ex_date.tz_localize(df['date'].dt.tz)\n",
    "\n",
    "        condition = df['date'] < ex_date\n",
    "        df.loc[condition, ['open', 'high', 'low', 'close']] /= divisor\n",
    "        \n",
    "        df[['open', 'high', 'low', 'close']] = df[['open', 'high', 'low', 'close']].round(2)\n",
    "        \n",
    "        os.makedirs(output_dir, exist_ok=True)\n",
    "        adjusted_file_path = os.path.join(output_dir, f\"{symbol}_adjusted.csv\")\n",
    "    \n",
    "        df.to_csv(adjusted_file_path, index=False)\n",
    "        print(f\"File for {symbol} adjusted and saved at {adjusted_file_path}\")\n",
    "        \n",
    "    except Exception as e:\n",
    "        print(f\"Error adjusting file for {symbol}: {e}\")"
   ]
  },
  {
   "cell_type": "code",
   "execution_count": null,
   "metadata": {},
   "outputs": [],
   "source": [
    "source_dir = \"/copiedfiledirectorypath\"\n",
    "output_dir = \"/adjustedfilepath\""
   ]
  },
  {
   "cell_type": "code",
   "execution_count": null,
   "metadata": {},
   "outputs": [],
   "source": [
    "for index, row in bonus_df.iterrows():\n",
    "    symbol = row['SYMBOL']\n",
    "    ex_date = row['EX-DATE']\n",
    "    divisor = row['DIVISOR']\n",
    "    file_path = os.path.join(source_dir, f\"{symbol}.csv\")\n",
    "    \n",
    "    if os.path.exists(file_path):\n",
    "        adjust_file(symbol, ex_date, divisor, file_path, output_dir)\n",
    "    else:\n",
    "        print(f\"File for {symbol} not found in source directory.\")"
   ]
  },
  {
   "cell_type": "code",
   "execution_count": null,
   "metadata": {},
   "outputs": [],
   "source": [
    "for index, row in split_df.iterrows():\n",
    "    symbol = row['SYMBOL']\n",
    "    ex_date = row['EX-DATE']\n",
    "    divisor = row['DIVISOR']\n",
    "    file_path = os.path.join(source_dir, f\"{symbol}.csv\")\n",
    "    \n",
    "    if os.path.exists(file_path):\n",
    "        adjust_file(symbol, ex_date, divisor, file_path, output_dir)\n",
    "    else:\n",
    "        print(f\"File for {symbol} not found in source directory.\")"
   ]
  }
 ],
 "metadata": {
  "language_info": {
   "name": "python"
  }
 },
 "nbformat": 4,
 "nbformat_minor": 2
}
